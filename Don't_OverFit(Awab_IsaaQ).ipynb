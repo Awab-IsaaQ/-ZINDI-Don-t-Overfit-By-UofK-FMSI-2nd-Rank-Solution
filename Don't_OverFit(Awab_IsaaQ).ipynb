{
  "nbformat": 4,
  "nbformat_minor": 0,
  "metadata": {
    "colab": {
      "provenance": []
    },
    "kernelspec": {
      "name": "python3",
      "display_name": "Python 3"
    },
    "language_info": {
      "name": "python"
    },
    "accelerator": "GPU",
    "gpuClass": "standard"
  },
  "cells": [
    {
      "cell_type": "markdown",
      "source": [
        "Import Libararies "
      ],
      "metadata": {
        "id": "xDgozm2MrKm0"
      }
    },
    {
      "cell_type": "markdown",
      "source": [
        "# Import Libraries"
      ],
      "metadata": {
        "id": "aitXt2TOrRf_"
      }
    },
    {
      "cell_type": "code",
      "source": [
        "#Installation of catboot libraries\n",
        "!pip install catboost"
      ],
      "metadata": {
        "id": "jUu0d871v4lZ",
        "colab": {
          "base_uri": "https://localhost:8080/"
        },
        "outputId": "bbd74ab8-89b6-4995-dd73-c5c510a49c63"
      },
      "execution_count": 1,
      "outputs": [
        {
          "output_type": "stream",
          "name": "stdout",
          "text": [
            "Looking in indexes: https://pypi.org/simple, https://us-python.pkg.dev/colab-wheels/public/simple/\n",
            "Collecting catboost\n",
            "  Downloading catboost-1.1.1-cp39-none-manylinux1_x86_64.whl (76.6 MB)\n",
            "\u001b[2K     \u001b[90m━━━━━━━━━━━━━━━━━━━━━━━━━━━━━━━━━━━━━━━━\u001b[0m \u001b[32m76.6/76.6 MB\u001b[0m \u001b[31m12.4 MB/s\u001b[0m eta \u001b[36m0:00:00\u001b[0m\n",
            "\u001b[?25hRequirement already satisfied: six in /usr/local/lib/python3.9/dist-packages (from catboost) (1.15.0)\n",
            "Requirement already satisfied: plotly in /usr/local/lib/python3.9/dist-packages (from catboost) (5.5.0)\n",
            "Requirement already satisfied: numpy>=1.16.0 in /usr/local/lib/python3.9/dist-packages (from catboost) (1.22.4)\n",
            "Requirement already satisfied: scipy in /usr/local/lib/python3.9/dist-packages (from catboost) (1.10.1)\n",
            "Requirement already satisfied: pandas>=0.24.0 in /usr/local/lib/python3.9/dist-packages (from catboost) (1.3.5)\n",
            "Requirement already satisfied: graphviz in /usr/local/lib/python3.9/dist-packages (from catboost) (0.10.1)\n",
            "Requirement already satisfied: matplotlib in /usr/local/lib/python3.9/dist-packages (from catboost) (3.5.3)\n",
            "Requirement already satisfied: python-dateutil>=2.7.3 in /usr/local/lib/python3.9/dist-packages (from pandas>=0.24.0->catboost) (2.8.2)\n",
            "Requirement already satisfied: pytz>=2017.3 in /usr/local/lib/python3.9/dist-packages (from pandas>=0.24.0->catboost) (2022.7.1)\n",
            "Requirement already satisfied: pyparsing>=2.2.1 in /usr/local/lib/python3.9/dist-packages (from matplotlib->catboost) (3.0.9)\n",
            "Requirement already satisfied: pillow>=6.2.0 in /usr/local/lib/python3.9/dist-packages (from matplotlib->catboost) (8.4.0)\n",
            "Requirement already satisfied: cycler>=0.10 in /usr/local/lib/python3.9/dist-packages (from matplotlib->catboost) (0.11.0)\n",
            "Requirement already satisfied: kiwisolver>=1.0.1 in /usr/local/lib/python3.9/dist-packages (from matplotlib->catboost) (1.4.4)\n",
            "Requirement already satisfied: fonttools>=4.22.0 in /usr/local/lib/python3.9/dist-packages (from matplotlib->catboost) (4.39.0)\n",
            "Requirement already satisfied: packaging>=20.0 in /usr/local/lib/python3.9/dist-packages (from matplotlib->catboost) (23.0)\n",
            "Requirement already satisfied: tenacity>=6.2.0 in /usr/local/lib/python3.9/dist-packages (from plotly->catboost) (8.2.2)\n",
            "Installing collected packages: catboost\n",
            "Successfully installed catboost-1.1.1\n"
          ]
        }
      ]
    },
    {
      "cell_type": "code",
      "source": [
        "import numpy as np\n",
        "import pandas as pd\n",
        "# pd.set_option('max_colwidth', 500)\n",
        "import matplotlib.pyplot as plt\n",
        "import seaborn as sns\n",
        "\n",
        "from sklearn.model_selection import StratifiedKFold\n",
        "from catboost import CatBoostClassifier, Pool\n",
        "from sklearn.preprocessing import LabelEncoder\n",
        "from sklearn.metrics import auc, classification_report, roc_auc_score\n",
        "\n",
        "import lightgbm as lgb\n",
        "import xgboost as xgb"
      ],
      "metadata": {
        "id": "1ol46d7qqGkQ"
      },
      "execution_count": 2,
      "outputs": []
    },
    {
      "cell_type": "markdown",
      "source": [
        "# Data"
      ],
      "metadata": {
        "id": "m8sWMuHjuSjf"
      }
    },
    {
      "cell_type": "markdown",
      "source": [
        "Loading Data"
      ],
      "metadata": {
        "id": "LS--TJS60l_I"
      }
    },
    {
      "cell_type": "code",
      "source": [
        "trainData = pd.read_csv(\"/content/drive/MyDrive/Train.csv\")\n",
        "testData = pd.read_csv(\"/content/drive/MyDrive/Test.csv\")"
      ],
      "metadata": {
        "id": "hSW_nIL0wxyK"
      },
      "execution_count": 3,
      "outputs": []
    },
    {
      "cell_type": "markdown",
      "source": [
        "Data Description"
      ],
      "metadata": {
        "id": "SGynmYyhzNSA"
      }
    },
    {
      "cell_type": "code",
      "source": [
        "#Checking NullValues & Data type of Features\n",
        "trainData.info()\n",
        "testData.info()\n",
        "trainData.describe()\n",
        "testData.describe()"
      ],
      "metadata": {
        "id": "kUbqlB4EzMkm"
      },
      "execution_count": null,
      "outputs": []
    },
    {
      "cell_type": "code",
      "source": [
        "testData.columns"
      ],
      "metadata": {
        "id": "_8tfHt1ZI_tk"
      },
      "execution_count": null,
      "outputs": []
    },
    {
      "cell_type": "markdown",
      "source": [
        "**Visualizing and Understanding the Data**"
      ],
      "metadata": {
        "id": "FiVEjufxJvF5"
      }
    },
    {
      "cell_type": "code",
      "source": [
        "#Target Histogram\n",
        "sns.set()\n",
        "sns.histplot(trainData['target'])\n",
        "\n",
        "# ImBalanced Data"
      ],
      "metadata": {
        "id": "t1Wp11enJ0DR"
      },
      "execution_count": null,
      "outputs": []
    },
    {
      "cell_type": "code",
      "source": [
        "# Relation between Features to see if I should drop any feature\n",
        "feat_re = list(trainData.select_dtypes(include=['int64', 'float64', 'int32']).columns)\n",
        "trainData[feat_re].hist(figsize=(20,15));"
      ],
      "metadata": {
        "id": "TcDdKHANgtxe"
      },
      "execution_count": null,
      "outputs": []
    },
    {
      "cell_type": "code",
      "source": [
        "feat_re = list(testData.select_dtypes(include=['int64', 'float64', 'int32']).columns)\n",
        "testData[feat_re].hist(figsize=(20,15));"
      ],
      "metadata": {
        "id": "wTKTY-KFilkp"
      },
      "execution_count": null,
      "outputs": []
    },
    {
      "cell_type": "code",
      "source": [
        "# Visualize the Relations between features\n",
        "\n",
        "attri = ['population', 'Q9']\n",
        "sns.pairplot(trainData.reset_index(drop=True)[attri], diag_kind='kde')\n",
        "plt.gcf().set_size_inches(15, 10)"
      ],
      "metadata": {
        "id": "WvEvocZwOp8t"
      },
      "execution_count": null,
      "outputs": []
    },
    {
      "cell_type": "markdown",
      "source": [
        "# Data Preprocessing"
      ],
      "metadata": {
        "id": "4oy1Suj6x6DY"
      }
    },
    {
      "cell_type": "markdown",
      "source": [
        "Turns out that the region column is considered to have numerical values in the train data while been strings in the test data, so that i used \"astype(str)\" in Label Encoder for the region for test data"
      ],
      "metadata": {
        "id": "JeQJa4KPmNAg"
      }
    },
    {
      "cell_type": "code",
      "source": [
        "# Encoding gategorical data [country, region] using LabelEncoder\n",
        "# 1st Country for the train and test dataframes\n",
        "label_Encode = LabelEncoder()\n",
        "trainData['countryLabel'] = label_Encode.fit_transform(trainData['country'])\n",
        "\n",
        "testData['countryLabel'] = label_Encode.transform(testData['country'])\n",
        "\n",
        "# 2nd region for the train and test datraframes\n",
        "label_Encode2 = LabelEncoder()\n",
        "trainData['regionLabel'] = label_Encode2.fit_transform(trainData['region'].astype(str))\n",
        "\n",
        "testData['regionLabel'] = label_Encode2.transform(testData['region'].astype(str))"
      ],
      "metadata": {
        "id": "Uy-AZ4kGyAc-"
      },
      "execution_count": 4,
      "outputs": []
    },
    {
      "cell_type": "markdown",
      "source": [
        "# Modeling And Tuning"
      ],
      "metadata": {
        "id": "z1nPEaufBI_w"
      }
    },
    {
      "cell_type": "markdown",
      "source": [
        "Setting Features for Models"
      ],
      "metadata": {
        "id": "ocy7kOv0BkSb"
      }
    },
    {
      "cell_type": "code",
      "source": [
        "drop_features = ['ID', 'country', 'region','target']\n",
        "features = [feat for feat in trainData.columns if feat not in drop_features]\n",
        "categ_features = ['countryLabel','regionLabel']\n",
        "x,y   = trainData[features], trainData['target']"
      ],
      "metadata": {
        "id": "pVk8S1kq-Kfj"
      },
      "execution_count": 5,
      "outputs": []
    },
    {
      "cell_type": "markdown",
      "source": [
        "**Note** that I decided to use **CatBoost** and **Lightgbm**\n",
        "models since they handle missing values by default"
      ],
      "metadata": {
        "id": "ctkaWRawQNmN"
      }
    },
    {
      "cell_type": "markdown",
      "source": [
        "**CatBoost** Validation"
      ],
      "metadata": {
        "id": "_K77i0XBBzfn"
      }
    },
    {
      "cell_type": "code",
      "source": [
        "score = 0\n",
        "testData['target'] = 0\n",
        "Skfold = StratifiedKFold(n_splits=5,shuffle=True, random_state=195024)\n",
        "catOOF = np.zeros((trainData.shape[0],))\n",
        "cat_predictions= []\n",
        "for loop, (idx, vidx) in enumerate(Skfold.split(x, trainData.country)):\n",
        "    print('Fold:',loop+1)\n",
        "        \n",
        "    # Creating lgb train/valid data\n",
        "    x_train, y_train = x.iloc[idx,:], y[idx] \n",
        "    x_test, y_test = x.iloc[vidx,:], y[vidx] \n",
        "       \n",
        "    estimator = CatBoostClassifier(learning_rate=0.05,\n",
        "                                task_type=\"GPU\",\n",
        "                                devices='0:1',\n",
        "                                iterations=10000,eval_metric='AUC',\n",
        "                              use_best_model =True,\n",
        "                              verbose=100,\n",
        "                             random_seed= 0)\n",
        "    estimator.fit(Pool(x_train,y_train,cat_features = categ_features),\n",
        "                  eval_set = Pool(x_test,y_test,cat_features = categ_features),early_stopping_rounds=200)\n",
        "    \n",
        "    y_pval = estimator.predict_proba(x_test)[:,1]\n",
        "    catOOF[vidx] = y_pval\n",
        "    score = score + roc_auc_score(y_test, y_pval)\n",
        "    y_pred_test = estimator.predict_proba(testData[features])[:,1]\n",
        "\n",
        "    cat_predictions.append(y_pred_test)\n",
        "print(f'Score: {roc_auc_score(y, catOOF)}')"
      ],
      "metadata": {
        "colab": {
          "base_uri": "https://localhost:8080/"
        },
        "id": "o1_k4P_V-CoG",
        "outputId": "9bd6f6dc-182c-497b-e293-d4daa73fca6a"
      },
      "execution_count": 6,
      "outputs": [
        {
          "output_type": "stream",
          "name": "stdout",
          "text": [
            "Fold: 1\n"
          ]
        },
        {
          "output_type": "stream",
          "name": "stderr",
          "text": [
            "Default metric period is 5 because AUC is/are not implemented for GPU\n"
          ]
        },
        {
          "output_type": "stream",
          "name": "stdout",
          "text": [
            "0:\ttest: 0.7483366\tbest: 0.7483366 (0)\ttotal: 29.3ms\tremaining: 4m 52s\n",
            "100:\ttest: 0.7891449\tbest: 0.7891449 (100)\ttotal: 1.99s\tremaining: 3m 14s\n",
            "200:\ttest: 0.7946036\tbest: 0.7946036 (200)\ttotal: 3.81s\tremaining: 3m 5s\n",
            "300:\ttest: 0.7967973\tbest: 0.7967981 (299)\ttotal: 6.39s\tremaining: 3m 25s\n",
            "400:\ttest: 0.7979766\tbest: 0.7979872 (396)\ttotal: 10.4s\tremaining: 4m 8s\n",
            "500:\ttest: 0.7988911\tbest: 0.7989006 (498)\ttotal: 12.2s\tremaining: 3m 50s\n",
            "600:\ttest: 0.7993228\tbest: 0.7993228 (600)\ttotal: 14s\tremaining: 3m 39s\n",
            "700:\ttest: 0.7999439\tbest: 0.7999439 (700)\ttotal: 15.8s\tremaining: 3m 30s\n",
            "800:\ttest: 0.8001121\tbest: 0.8001305 (782)\ttotal: 17.7s\tremaining: 3m 23s\n",
            "900:\ttest: 0.8004383\tbest: 0.8004383 (900)\ttotal: 24.2s\tremaining: 4m 4s\n",
            "1000:\ttest: 0.8005434\tbest: 0.8005569 (988)\ttotal: 26.7s\tremaining: 3m 59s\n",
            "1100:\ttest: 0.8006924\tbest: 0.8006983 (1086)\ttotal: 28.6s\tremaining: 3m 50s\n",
            "1200:\ttest: 0.8008091\tbest: 0.8008091 (1200)\ttotal: 30.3s\tremaining: 3m 42s\n",
            "1300:\ttest: 0.8008456\tbest: 0.8008855 (1267)\ttotal: 32.2s\tremaining: 3m 35s\n",
            "1400:\ttest: 0.8009582\tbest: 0.8009743 (1383)\ttotal: 34.6s\tremaining: 3m 32s\n",
            "1500:\ttest: 0.8010558\tbest: 0.8010558 (1500)\ttotal: 41.1s\tremaining: 3m 52s\n",
            "1600:\ttest: 0.8010730\tbest: 0.8010878 (1526)\ttotal: 42.9s\tremaining: 3m 45s\n",
            "1700:\ttest: 0.8011104\tbest: 0.8011575 (1694)\ttotal: 44.8s\tremaining: 3m 38s\n",
            "1800:\ttest: 0.8010747\tbest: 0.8011575 (1694)\ttotal: 46.7s\tremaining: 3m 32s\n",
            "bestTest = 0.8011574745\n",
            "bestIteration = 1694\n",
            "Shrink model to first 1695 iterations.\n",
            "Fold: 2\n"
          ]
        },
        {
          "output_type": "stream",
          "name": "stderr",
          "text": [
            "Default metric period is 5 because AUC is/are not implemented for GPU\n"
          ]
        },
        {
          "output_type": "stream",
          "name": "stdout",
          "text": [
            "0:\ttest: 0.7433428\tbest: 0.7433428 (0)\ttotal: 43.5ms\tremaining: 7m 14s\n",
            "100:\ttest: 0.7864985\tbest: 0.7864985 (100)\ttotal: 3.43s\tremaining: 5m 36s\n",
            "200:\ttest: 0.7915487\tbest: 0.7915487 (200)\ttotal: 5.21s\tremaining: 4m 14s\n",
            "300:\ttest: 0.7938608\tbest: 0.7938608 (300)\ttotal: 7.04s\tremaining: 3m 46s\n",
            "400:\ttest: 0.7954642\tbest: 0.7954642 (400)\ttotal: 8.9s\tremaining: 3m 33s\n",
            "500:\ttest: 0.7963537\tbest: 0.7963608 (496)\ttotal: 10.7s\tremaining: 3m 23s\n",
            "600:\ttest: 0.7968423\tbest: 0.7968423 (600)\ttotal: 13.8s\tremaining: 3m 35s\n",
            "700:\ttest: 0.7972618\tbest: 0.7972618 (700)\ttotal: 19.6s\tremaining: 4m 20s\n",
            "800:\ttest: 0.7977447\tbest: 0.7977448 (799)\ttotal: 21.5s\tremaining: 4m 6s\n",
            "900:\ttest: 0.7981596\tbest: 0.7981596 (900)\ttotal: 23.3s\tremaining: 3m 55s\n",
            "1000:\ttest: 0.7983208\tbest: 0.7983208 (1000)\ttotal: 25.1s\tremaining: 3m 46s\n",
            "1100:\ttest: 0.7983911\tbest: 0.7984069 (1050)\ttotal: 27s\tremaining: 3m 38s\n",
            "1200:\ttest: 0.7986981\tbest: 0.7987061 (1198)\ttotal: 31.7s\tremaining: 3m 52s\n",
            "1300:\ttest: 0.7989664\tbest: 0.7989759 (1298)\ttotal: 33.5s\tremaining: 3m 44s\n",
            "1400:\ttest: 0.7990419\tbest: 0.7990907 (1384)\ttotal: 35.4s\tremaining: 3m 37s\n",
            "1500:\ttest: 0.7990675\tbest: 0.7991039 (1425)\ttotal: 37.2s\tremaining: 3m 30s\n",
            "1600:\ttest: 0.7992103\tbest: 0.7992240 (1592)\ttotal: 39s\tremaining: 3m 24s\n",
            "1700:\ttest: 0.7992852\tbest: 0.7993034 (1698)\ttotal: 40.9s\tremaining: 3m 19s\n",
            "1800:\ttest: 0.7992327\tbest: 0.7993209 (1715)\ttotal: 45.7s\tremaining: 3m 28s\n",
            "1900:\ttest: 0.7992330\tbest: 0.7993209 (1715)\ttotal: 47.6s\tremaining: 3m 22s\n",
            "bestTest = 0.7993209064\n",
            "bestIteration = 1715\n",
            "Shrink model to first 1716 iterations.\n",
            "Fold: 3\n"
          ]
        },
        {
          "output_type": "stream",
          "name": "stderr",
          "text": [
            "Default metric period is 5 because AUC is/are not implemented for GPU\n"
          ]
        },
        {
          "output_type": "stream",
          "name": "stdout",
          "text": [
            "0:\ttest: 0.7502691\tbest: 0.7502691 (0)\ttotal: 18.2ms\tremaining: 3m 2s\n",
            "100:\ttest: 0.7916954\tbest: 0.7916954 (100)\ttotal: 1.91s\tremaining: 3m 6s\n",
            "200:\ttest: 0.7962402\tbest: 0.7962493 (198)\ttotal: 3.74s\tremaining: 3m 2s\n",
            "300:\ttest: 0.7982052\tbest: 0.7982052 (300)\ttotal: 8.45s\tremaining: 4m 32s\n",
            "400:\ttest: 0.7993231\tbest: 0.7993231 (400)\ttotal: 12.6s\tremaining: 5m 2s\n",
            "500:\ttest: 0.8001410\tbest: 0.8001410 (500)\ttotal: 15.3s\tremaining: 4m 49s\n",
            "600:\ttest: 0.8005633\tbest: 0.8005781 (599)\ttotal: 17s\tremaining: 4m 26s\n",
            "700:\ttest: 0.8009736\tbest: 0.8009736 (700)\ttotal: 20.8s\tremaining: 4m 36s\n",
            "800:\ttest: 0.8013784\tbest: 0.8013784 (800)\ttotal: 23.8s\tremaining: 4m 32s\n",
            "900:\ttest: 0.8014784\tbest: 0.8014784 (900)\ttotal: 25.6s\tremaining: 4m 18s\n",
            "1000:\ttest: 0.8015923\tbest: 0.8016190 (990)\ttotal: 27.4s\tremaining: 4m 6s\n",
            "1100:\ttest: 0.8018444\tbest: 0.8018444 (1100)\ttotal: 29.2s\tremaining: 3m 56s\n",
            "1200:\ttest: 0.8020352\tbest: 0.8020352 (1200)\ttotal: 31.1s\tremaining: 3m 47s\n",
            "1300:\ttest: 0.8021413\tbest: 0.8021413 (1300)\ttotal: 36.1s\tremaining: 4m 1s\n",
            "1400:\ttest: 0.8021787\tbest: 0.8022377 (1378)\ttotal: 38s\tremaining: 3m 52s\n",
            "1500:\ttest: 0.8023404\tbest: 0.8023561 (1479)\ttotal: 39.8s\tremaining: 3m 45s\n",
            "1600:\ttest: 0.8024249\tbest: 0.8024307 (1577)\ttotal: 41.7s\tremaining: 3m 38s\n",
            "1700:\ttest: 0.8024122\tbest: 0.8024516 (1612)\ttotal: 43.5s\tremaining: 3m 32s\n",
            "1800:\ttest: 0.8024421\tbest: 0.8024992 (1783)\ttotal: 45.4s\tremaining: 3m 26s\n",
            "1900:\ttest: 0.8023649\tbest: 0.8024992 (1783)\ttotal: 50.1s\tremaining: 3m 33s\n",
            "bestTest = 0.8024991751\n",
            "bestIteration = 1783\n",
            "Shrink model to first 1784 iterations.\n",
            "Fold: 4\n"
          ]
        },
        {
          "output_type": "stream",
          "name": "stderr",
          "text": [
            "Default metric period is 5 because AUC is/are not implemented for GPU\n"
          ]
        },
        {
          "output_type": "stream",
          "name": "stdout",
          "text": [
            "0:\ttest: 0.7495573\tbest: 0.7495573 (0)\ttotal: 18.1ms\tremaining: 3m\n",
            "100:\ttest: 0.7916778\tbest: 0.7916778 (100)\ttotal: 1.95s\tremaining: 3m 11s\n",
            "200:\ttest: 0.7959687\tbest: 0.7959687 (200)\ttotal: 7.73s\tremaining: 6m 16s\n",
            "300:\ttest: 0.7983443\tbest: 0.7983443 (300)\ttotal: 10.9s\tremaining: 5m 51s\n",
            "400:\ttest: 0.7996026\tbest: 0.7996026 (400)\ttotal: 12.7s\tremaining: 5m 4s\n",
            "500:\ttest: 0.8003146\tbest: 0.8003217 (496)\ttotal: 14.5s\tremaining: 4m 35s\n",
            "600:\ttest: 0.8009000\tbest: 0.8009000 (600)\ttotal: 16.4s\tremaining: 4m 15s\n",
            "700:\ttest: 0.8012978\tbest: 0.8013133 (698)\ttotal: 18.2s\tremaining: 4m 1s\n",
            "800:\ttest: 0.8017952\tbest: 0.8018018 (794)\ttotal: 21.5s\tremaining: 4m 7s\n",
            "900:\ttest: 0.8019845\tbest: 0.8019856 (898)\ttotal: 24.9s\tremaining: 4m 11s\n",
            "1000:\ttest: 0.8021215\tbest: 0.8021215 (1000)\ttotal: 26.7s\tremaining: 4m\n",
            "1100:\ttest: 0.8022086\tbest: 0.8022106 (1029)\ttotal: 28.6s\tremaining: 3m 50s\n",
            "1200:\ttest: 0.8023459\tbest: 0.8023459 (1200)\ttotal: 30.4s\tremaining: 3m 42s\n",
            "1300:\ttest: 0.8025490\tbest: 0.8025741 (1298)\ttotal: 32.2s\tremaining: 3m 35s\n",
            "1400:\ttest: 0.8026723\tbest: 0.8026723 (1400)\ttotal: 37s\tremaining: 3m 46s\n",
            "1500:\ttest: 0.8026903\tbest: 0.8027323 (1443)\ttotal: 38.8s\tremaining: 3m 39s\n",
            "1600:\ttest: 0.8027563\tbest: 0.8027676 (1598)\ttotal: 40.7s\tremaining: 3m 33s\n",
            "1700:\ttest: 0.8027631\tbest: 0.8027884 (1668)\ttotal: 42.5s\tremaining: 3m 27s\n",
            "1800:\ttest: 0.8028244\tbest: 0.8028584 (1785)\ttotal: 44.5s\tremaining: 3m 22s\n",
            "1900:\ttest: 0.8029032\tbest: 0.8029032 (1900)\ttotal: 46.4s\tremaining: 3m 17s\n",
            "2000:\ttest: 0.8029698\tbest: 0.8030039 (1986)\ttotal: 52.2s\tremaining: 3m 28s\n",
            "2100:\ttest: 0.8029443\tbest: 0.8030039 (1986)\ttotal: 55.5s\tremaining: 3m 28s\n",
            "2200:\ttest: 0.8029121\tbest: 0.8030337 (2162)\ttotal: 57.4s\tremaining: 3m 23s\n",
            "2300:\ttest: 0.8028132\tbest: 0.8030337 (2162)\ttotal: 59.2s\tremaining: 3m 18s\n",
            "bestTest = 0.8030337393\n",
            "bestIteration = 2162\n",
            "Shrink model to first 2163 iterations.\n",
            "Fold: 5\n"
          ]
        },
        {
          "output_type": "stream",
          "name": "stderr",
          "text": [
            "Default metric period is 5 because AUC is/are not implemented for GPU\n"
          ]
        },
        {
          "output_type": "stream",
          "name": "stdout",
          "text": [
            "0:\ttest: 0.7500506\tbest: 0.7500506 (0)\ttotal: 110ms\tremaining: 18m 15s\n",
            "100:\ttest: 0.7931401\tbest: 0.7931401 (100)\ttotal: 3.39s\tremaining: 5m 32s\n",
            "200:\ttest: 0.7988527\tbest: 0.7988527 (200)\ttotal: 5.21s\tremaining: 4m 13s\n",
            "300:\ttest: 0.8014819\tbest: 0.8014819 (300)\ttotal: 6.96s\tremaining: 3m 44s\n",
            "400:\ttest: 0.8030519\tbest: 0.8030519 (400)\ttotal: 8.77s\tremaining: 3m 29s\n",
            "500:\ttest: 0.8041289\tbest: 0.8041399 (499)\ttotal: 10.6s\tremaining: 3m 20s\n",
            "600:\ttest: 0.8046815\tbest: 0.8046824 (599)\ttotal: 14.5s\tremaining: 3m 46s\n",
            "700:\ttest: 0.8050360\tbest: 0.8050360 (700)\ttotal: 17.1s\tremaining: 3m 47s\n",
            "800:\ttest: 0.8052927\tbest: 0.8052927 (800)\ttotal: 18.9s\tremaining: 3m 37s\n",
            "900:\ttest: 0.8056577\tbest: 0.8056715 (899)\ttotal: 20.7s\tremaining: 3m 29s\n",
            "1000:\ttest: 0.8058572\tbest: 0.8058572 (999)\ttotal: 22.6s\tremaining: 3m 23s\n",
            "1100:\ttest: 0.8060140\tbest: 0.8060277 (1082)\ttotal: 24.4s\tremaining: 3m 17s\n",
            "1200:\ttest: 0.8060978\tbest: 0.8061405 (1157)\ttotal: 29.1s\tremaining: 3m 33s\n",
            "1300:\ttest: 0.8061673\tbest: 0.8061872 (1275)\ttotal: 31s\tremaining: 3m 27s\n",
            "1400:\ttest: 0.8062960\tbest: 0.8062960 (1400)\ttotal: 34s\tremaining: 3m 28s\n",
            "1500:\ttest: 0.8063028\tbest: 0.8063506 (1455)\ttotal: 37.2s\tremaining: 3m 30s\n",
            "1600:\ttest: 0.8062622\tbest: 0.8063557 (1555)\ttotal: 39.1s\tremaining: 3m 25s\n",
            "1700:\ttest: 0.8061947\tbest: 0.8063557 (1555)\ttotal: 43.7s\tremaining: 3m 33s\n",
            "bestTest = 0.806355685\n",
            "bestIteration = 1555\n",
            "Shrink model to first 1556 iterations.\n",
            "Score: 0.8024449357449559\n"
          ]
        }
      ]
    },
    {
      "cell_type": "code",
      "source": [
        "catboostpred = np.mean(cat_predictions,axis=0)"
      ],
      "metadata": {
        "id": "iq4F1sl6HiSB"
      },
      "execution_count": 7,
      "outputs": []
    },
    {
      "cell_type": "markdown",
      "source": [
        "**lightGBM** Validation"
      ],
      "metadata": {
        "id": "BFjRrTxSIH3Y"
      }
    },
    {
      "cell_type": "code",
      "source": [
        "#Tuning Parameters\n",
        "lgb_params = {'boosting_type': 'gbdt','objective': 'binary','metric': 'auc',\n",
        "              'n_estimators': 500,'early_stopping_rounds': 100,'sub_sample' : 0.7,\n",
        "              'colsample_bytree' : 0.6,'seed': 19,'silent':False\n",
        "            }"
      ],
      "metadata": {
        "id": "qmbHbTYqIoHS"
      },
      "execution_count": 8,
      "outputs": []
    },
    {
      "cell_type": "code",
      "source": [
        "score = 0\n",
        "testData['target'] = 0\n",
        "Skfold = StratifiedKFold(n_splits=5,shuffle=True, random_state=19)\n",
        "lgbOOF = np.zeros((trainData.shape[0],))\n",
        "lgb_preds = []\n",
        "for loop, (idx, vidx) in enumerate(Skfold.split(x, trainData.country)):\n",
        "    print('Fold:',loop+1)\n",
        "        \n",
        "    trx, trY = x.iloc[idx,:], y[idx] \n",
        "    vlx, vly = x.iloc[vidx,:], y[vidx] \n",
        "        \n",
        "    train_data = lgb.Dataset(trx, label=trY,categorical_feature=categ_features)\n",
        "    valid_data = lgb.Dataset(vlx, label=vly,categorical_feature=categ_features)\n",
        "    \n",
        "    estimator = lgb.train(\n",
        "                          lgb_params,\n",
        "                          train_data,\n",
        "                          valid_sets = [train_data,valid_data],\n",
        "                          verbose_eval = 100,\n",
        "                        )\n",
        "\n",
        "    y_pred_val = estimator.predict(vlx,num_iteration=estimator.best_iteration)\n",
        "    lgbOOF[vidx] = y_pred_val\n",
        "    score = score + roc_auc_score(vly, y_pred_val)\n",
        "    y_pred_test = estimator.predict(testData[features],num_iteration=estimator.best_iteration)\n",
        "    lgb_preds.append(y_pred_test)\n",
        "\n",
        "print(f'Score : {roc_auc_score(y, lgbOOF)}',)"
      ],
      "metadata": {
        "colab": {
          "base_uri": "https://localhost:8080/"
        },
        "id": "5w-vuim_IHKA",
        "outputId": "0239e25e-6e4f-4dac-a371-312d205b74ab"
      },
      "execution_count": 9,
      "outputs": [
        {
          "output_type": "stream",
          "name": "stdout",
          "text": [
            "Fold: 1\n"
          ]
        },
        {
          "output_type": "stream",
          "name": "stderr",
          "text": [
            "/usr/local/lib/python3.9/dist-packages/lightgbm/engine.py:118: UserWarning: Found `n_estimators` in params. Will use it instead of argument\n",
            "  warnings.warn(\"Found `{}` in params. Will use it instead of argument\".format(alias))\n",
            "/usr/local/lib/python3.9/dist-packages/lightgbm/engine.py:123: UserWarning: Found `early_stopping_rounds` in params. Will use it instead of argument\n",
            "  warnings.warn(\"Found `{}` in params. Will use it instead of argument\".format(alias))\n",
            "/usr/local/lib/python3.9/dist-packages/lightgbm/basic.py:1205: UserWarning: Using categorical_feature in Dataset.\n",
            "  warnings.warn('Using categorical_feature in Dataset.')\n",
            "/usr/local/lib/python3.9/dist-packages/lightgbm/basic.py:739: UserWarning: silent keyword has been found in `params` and will be ignored.\n",
            "Please use silent argument of the Dataset constructor to pass this parameter.\n",
            "  warnings.warn('{0} keyword has been found in `params` and will be ignored.\\n'\n",
            "/usr/local/lib/python3.9/dist-packages/lightgbm/basic.py:762: UserWarning: categorical_feature in param dict is overridden.\n",
            "  warnings.warn('categorical_feature in param dict is overridden.')\n"
          ]
        },
        {
          "output_type": "stream",
          "name": "stdout",
          "text": [
            "Training until validation scores don't improve for 100 rounds.\n",
            "[100]\ttraining's auc: 0.825269\tvalid_1's auc: 0.799104\n",
            "[200]\ttraining's auc: 0.839055\tvalid_1's auc: 0.799764\n",
            "[300]\ttraining's auc: 0.848961\tvalid_1's auc: 0.799272\n",
            "Early stopping, best iteration is:\n",
            "[238]\ttraining's auc: 0.842781\tvalid_1's auc: 0.800124\n",
            "Fold: 2\n"
          ]
        },
        {
          "output_type": "stream",
          "name": "stderr",
          "text": [
            "/usr/local/lib/python3.9/dist-packages/lightgbm/engine.py:118: UserWarning: Found `n_estimators` in params. Will use it instead of argument\n",
            "  warnings.warn(\"Found `{}` in params. Will use it instead of argument\".format(alias))\n",
            "/usr/local/lib/python3.9/dist-packages/lightgbm/engine.py:123: UserWarning: Found `early_stopping_rounds` in params. Will use it instead of argument\n",
            "  warnings.warn(\"Found `{}` in params. Will use it instead of argument\".format(alias))\n",
            "/usr/local/lib/python3.9/dist-packages/lightgbm/basic.py:1205: UserWarning: Using categorical_feature in Dataset.\n",
            "  warnings.warn('Using categorical_feature in Dataset.')\n",
            "/usr/local/lib/python3.9/dist-packages/lightgbm/basic.py:739: UserWarning: silent keyword has been found in `params` and will be ignored.\n",
            "Please use silent argument of the Dataset constructor to pass this parameter.\n",
            "  warnings.warn('{0} keyword has been found in `params` and will be ignored.\\n'\n",
            "/usr/local/lib/python3.9/dist-packages/lightgbm/basic.py:762: UserWarning: categorical_feature in param dict is overridden.\n",
            "  warnings.warn('categorical_feature in param dict is overridden.')\n"
          ]
        },
        {
          "output_type": "stream",
          "name": "stdout",
          "text": [
            "Training until validation scores don't improve for 100 rounds.\n",
            "[100]\ttraining's auc: 0.824337\tvalid_1's auc: 0.807446\n",
            "[200]\ttraining's auc: 0.838049\tvalid_1's auc: 0.808424\n",
            "[300]\ttraining's auc: 0.849121\tvalid_1's auc: 0.80808\n",
            "Early stopping, best iteration is:\n",
            "[218]\ttraining's auc: 0.839885\tvalid_1's auc: 0.808457\n",
            "Fold: 3\n"
          ]
        },
        {
          "output_type": "stream",
          "name": "stderr",
          "text": [
            "/usr/local/lib/python3.9/dist-packages/lightgbm/engine.py:118: UserWarning: Found `n_estimators` in params. Will use it instead of argument\n",
            "  warnings.warn(\"Found `{}` in params. Will use it instead of argument\".format(alias))\n",
            "/usr/local/lib/python3.9/dist-packages/lightgbm/engine.py:123: UserWarning: Found `early_stopping_rounds` in params. Will use it instead of argument\n",
            "  warnings.warn(\"Found `{}` in params. Will use it instead of argument\".format(alias))\n",
            "/usr/local/lib/python3.9/dist-packages/lightgbm/basic.py:1205: UserWarning: Using categorical_feature in Dataset.\n",
            "  warnings.warn('Using categorical_feature in Dataset.')\n",
            "/usr/local/lib/python3.9/dist-packages/lightgbm/basic.py:739: UserWarning: silent keyword has been found in `params` and will be ignored.\n",
            "Please use silent argument of the Dataset constructor to pass this parameter.\n",
            "  warnings.warn('{0} keyword has been found in `params` and will be ignored.\\n'\n",
            "/usr/local/lib/python3.9/dist-packages/lightgbm/basic.py:762: UserWarning: categorical_feature in param dict is overridden.\n",
            "  warnings.warn('categorical_feature in param dict is overridden.')\n"
          ]
        },
        {
          "output_type": "stream",
          "name": "stdout",
          "text": [
            "Training until validation scores don't improve for 100 rounds.\n",
            "[100]\ttraining's auc: 0.825113\tvalid_1's auc: 0.803023\n",
            "[200]\ttraining's auc: 0.838989\tvalid_1's auc: 0.803369\n",
            "Early stopping, best iteration is:\n",
            "[196]\ttraining's auc: 0.838559\tvalid_1's auc: 0.803437\n",
            "Fold: 4\n"
          ]
        },
        {
          "output_type": "stream",
          "name": "stderr",
          "text": [
            "/usr/local/lib/python3.9/dist-packages/lightgbm/engine.py:118: UserWarning: Found `n_estimators` in params. Will use it instead of argument\n",
            "  warnings.warn(\"Found `{}` in params. Will use it instead of argument\".format(alias))\n",
            "/usr/local/lib/python3.9/dist-packages/lightgbm/engine.py:123: UserWarning: Found `early_stopping_rounds` in params. Will use it instead of argument\n",
            "  warnings.warn(\"Found `{}` in params. Will use it instead of argument\".format(alias))\n",
            "/usr/local/lib/python3.9/dist-packages/lightgbm/basic.py:1205: UserWarning: Using categorical_feature in Dataset.\n",
            "  warnings.warn('Using categorical_feature in Dataset.')\n",
            "/usr/local/lib/python3.9/dist-packages/lightgbm/basic.py:739: UserWarning: silent keyword has been found in `params` and will be ignored.\n",
            "Please use silent argument of the Dataset constructor to pass this parameter.\n",
            "  warnings.warn('{0} keyword has been found in `params` and will be ignored.\\n'\n",
            "/usr/local/lib/python3.9/dist-packages/lightgbm/basic.py:762: UserWarning: categorical_feature in param dict is overridden.\n",
            "  warnings.warn('categorical_feature in param dict is overridden.')\n"
          ]
        },
        {
          "output_type": "stream",
          "name": "stdout",
          "text": [
            "Training until validation scores don't improve for 100 rounds.\n",
            "[100]\ttraining's auc: 0.824215\tvalid_1's auc: 0.804654\n",
            "[200]\ttraining's auc: 0.837535\tvalid_1's auc: 0.805165\n",
            "Early stopping, best iteration is:\n",
            "[166]\ttraining's auc: 0.833951\tvalid_1's auc: 0.805339\n",
            "Fold: 5\n"
          ]
        },
        {
          "output_type": "stream",
          "name": "stderr",
          "text": [
            "/usr/local/lib/python3.9/dist-packages/lightgbm/engine.py:118: UserWarning: Found `n_estimators` in params. Will use it instead of argument\n",
            "  warnings.warn(\"Found `{}` in params. Will use it instead of argument\".format(alias))\n",
            "/usr/local/lib/python3.9/dist-packages/lightgbm/engine.py:123: UserWarning: Found `early_stopping_rounds` in params. Will use it instead of argument\n",
            "  warnings.warn(\"Found `{}` in params. Will use it instead of argument\".format(alias))\n",
            "/usr/local/lib/python3.9/dist-packages/lightgbm/basic.py:1205: UserWarning: Using categorical_feature in Dataset.\n",
            "  warnings.warn('Using categorical_feature in Dataset.')\n",
            "/usr/local/lib/python3.9/dist-packages/lightgbm/basic.py:739: UserWarning: silent keyword has been found in `params` and will be ignored.\n",
            "Please use silent argument of the Dataset constructor to pass this parameter.\n",
            "  warnings.warn('{0} keyword has been found in `params` and will be ignored.\\n'\n",
            "/usr/local/lib/python3.9/dist-packages/lightgbm/basic.py:762: UserWarning: categorical_feature in param dict is overridden.\n",
            "  warnings.warn('categorical_feature in param dict is overridden.')\n"
          ]
        },
        {
          "output_type": "stream",
          "name": "stdout",
          "text": [
            "Training until validation scores don't improve for 100 rounds.\n",
            "[100]\ttraining's auc: 0.825473\tvalid_1's auc: 0.799403\n",
            "[200]\ttraining's auc: 0.839297\tvalid_1's auc: 0.799748\n",
            "Early stopping, best iteration is:\n",
            "[149]\ttraining's auc: 0.833045\tvalid_1's auc: 0.800032\n",
            "Score : 0.8034417209147834\n"
          ]
        }
      ]
    },
    {
      "cell_type": "code",
      "source": [
        "lightgbm_preds = np.mean(lgb_preds,axis=0)"
      ],
      "metadata": {
        "id": "J94u16WnZ2lI"
      },
      "execution_count": 10,
      "outputs": []
    },
    {
      "cell_type": "markdown",
      "source": [
        "# Ensembling"
      ],
      "metadata": {
        "id": "St6fWrv3tSFF"
      }
    },
    {
      "cell_type": "code",
      "source": [
        "Ensemble_score = catOOF*0.55 + lgbOOF*0.45\n",
        "roc_auc_score(y,Ensemble_score )\n",
        "#  N=3 >>> 0.8040931624186454 Lightgbm & CatBoost\n",
        "#  N=5 >>> 0.8046957301409114 Lightgbm & CatBoost"
      ],
      "metadata": {
        "colab": {
          "base_uri": "https://localhost:8080/"
        },
        "id": "RLHz5-1utczc",
        "outputId": "0ebd8598-845b-46fc-bb4b-1bfbbcfd3bd0"
      },
      "execution_count": 15,
      "outputs": [
        {
          "output_type": "execute_result",
          "data": {
            "text/plain": [
              "0.8049145750587461"
            ]
          },
          "metadata": {},
          "execution_count": 15
        }
      ]
    },
    {
      "cell_type": "markdown",
      "source": [
        "# Submission"
      ],
      "metadata": {
        "id": "NBmhwzRPuJdq"
      }
    },
    {
      "cell_type": "code",
      "source": [
        "testData['target'] = lightgbm_preds #*0.45 + catboostpred*0.55\n",
        "submission = testData[['ID', 'target']]\n",
        "submission.to_csv('do-not-over-fit-FMSI-ensemble_fi.csv',index = False)"
      ],
      "metadata": {
        "id": "JaTm6aazuSyI"
      },
      "execution_count": 13,
      "outputs": []
    },
    {
      "cell_type": "markdown",
      "source": [
        "**Note**:  During the competition i forget to ensemble the predictions"
      ],
      "metadata": {
        "id": "8CRXhjy04WYC"
      }
    },
    {
      "cell_type": "markdown",
      "source": [
        "References:\n",
        "\n",
        "[StratifiedKFold](https://scikit-learn.org/stable/modules/generated/sklearn.model_selection.StratifiedKFold.html)\n",
        "\n",
        "[Speeding up the training](https://catboost.ai/en/docs/concepts/speed-up-training) \"CatBoost\"\n",
        "\n",
        "[CatBoostClassifier Parameters](https://catboost.ai/en/docs/concepts/python-reference_catboostclassifier)\n",
        "\n",
        "[Lightgbm Tuning](https://lightgbm.readthedocs.io/en/latest/Parameters-Tuning.html)\n",
        "\n",
        "[XGBoost hyperparameters Tuning](https://www.kaggle.com/code/prashant111/a-guide-on-xgboost-hyperparameters-tuning/notebook)"
      ],
      "metadata": {
        "id": "o_FdtIJQsUkk"
      }
    }
  ]
}